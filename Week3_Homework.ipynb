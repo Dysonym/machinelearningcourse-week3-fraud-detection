{
  "nbformat": 4,
  "nbformat_minor": 0,
  "metadata": {
    "colab": {
      "name": "Week3 - Homework.ipynb",
      "version": "0.3.2",
      "provenance": [],
      "collapsed_sections": [],
      "include_colab_link": true
    },
    "kernelspec": {
      "name": "python3",
      "display_name": "Python 3"
    }
  },
  "cells": [
    {
      "cell_type": "markdown",
      "metadata": {
        "id": "view-in-github",
        "colab_type": "text"
      },
      "source": [
        "<a href=\"https://colab.research.google.com/github/Dysonym/machinelearningcourse-week3-fraud-detection/blob/master/Week3_Homework.ipynb\" target=\"_parent\"><img src=\"https://colab.research.google.com/assets/colab-badge.svg\" alt=\"Open In Colab\"/></a>"
      ]
    },
    {
      "cell_type": "markdown",
      "metadata": {
        "id": "UfDRzeOORHAa",
        "colab_type": "text"
      },
      "source": [
        "**Instructions**\n",
        "\n",
        "Build a logistic regression model using Scikit-learn to predict fraudulent transactions by training it on this kaggle dataset. Before you train the model, create at least 1 visualization of the data using the seaborn library of your choice. This should be submitted as a \"\"jupyter notebook\". This link will help you understand the flow of this process."
      ]
    },
    {
      "cell_type": "code",
      "metadata": {
        "id": "i2zFw2UfC1fB",
        "colab_type": "code",
        "colab": {}
      },
      "source": [
        "#Imports\n",
        "import numpy as np\n",
        "import sklearn as sk\n",
        "import pandas as pd\n",
        "import matplotlib.pyplot as plt\n",
        "import seaborn as sns\n",
        "from sklearn.preprocessing import scale, normalize\n",
        "from sklearn import linear_model\n",
        "from sklearn.model_selection import train_test_split\n",
        "from sklearn.metrics import accuracy_score, classification_report\n",
        "from sklearn.ensemble import RandomForestClassifier\n",
        "import random\n",
        "import zipfile\n",
        "import gc\n",
        "from os.path import isfile\n",
        "\n",
        "try:\n",
        "  from google.colab import files\n",
        "  IN_COLAB = True\n",
        "except:\n",
        "  IN_COLAB = False\n",
        "\n"
      ],
      "execution_count": 0,
      "outputs": []
    },
    {
      "cell_type": "code",
      "metadata": {
        "id": "ybiJQdoTv4dl",
        "colab_type": "code",
        "colab": {}
      },
      "source": [
        "if(not isfile(\"ieee-fraud-detection.zip\")):\n",
        "  print(\"Please place ieee-fraud-detection.zip in the current directory\")\n",
        "  print(\"From: https://www.kaggle.com/c/14242/download-all\")\n",
        "  raise Exception(\"Missing ieee-fraud-detection.zip, please upload to colab, or place in current directory.\")\n",
        "  "
      ],
      "execution_count": 0,
      "outputs": []
    },
    {
      "cell_type": "code",
      "metadata": {
        "id": "d9PRNnBnzM8G",
        "colab_type": "code",
        "colab": {}
      },
      "source": [
        "#reading data\n",
        "\n",
        "with zipfile.ZipFile(\"ieee-fraud-detection.zip\") as zip:\n",
        "  with zip.open(\"train_transaction.csv\") as train_transaction_csv:\n",
        "    data = pd.read_csv(train_transaction_csv, index_col=\"TransactionID\")\n",
        "  #with zip.open(\"train_identity.csv\") as train_identity_csv:\n",
        "  #  identity_data = pd.read_csv(train_identity_csv, index_col=\"TransactionID\")\n",
        "    \n",
        "#data = transaction_data.join(identity_data) Got actually better results without identity_data\n",
        "#data = transaction_data\n",
        "#del(transaction_data)\n",
        "#del(identity_data)\n",
        "#gc.collect()\n",
        "\n",
        "\n",
        "\n",
        "\n"
      ],
      "execution_count": 0,
      "outputs": []
    },
    {
      "cell_type": "code",
      "metadata": {
        "id": "pTK0DgsBSj8n",
        "colab_type": "code",
        "colab": {
          "base_uri": "https://localhost:8080/",
          "height": 34
        },
        "outputId": "78ca58b7-63d7-40c2-edac-5ede8fb306e0"
      },
      "source": [
        "#Encode Strings\n",
        "categories = {}\n",
        "string_columns = [column for column in data.columns if data[column].dtype == object]\n",
        "for c in string_columns:\n",
        "  data[c] = data[c].astype('category')\n",
        "  categories[c] = data[c].cat.categories\n",
        "  data[c] = data[c].cat.codes\n",
        "  \n",
        "print(len(categories))\n"
      ],
      "execution_count": 4,
      "outputs": [
        {
          "output_type": "stream",
          "text": [
            "14\n"
          ],
          "name": "stdout"
        }
      ]
    },
    {
      "cell_type": "code",
      "metadata": {
        "id": "KCgNaGrq4MCp",
        "colab_type": "code",
        "colab": {
          "base_uri": "https://localhost:8080/",
          "height": 85
        },
        "outputId": "dd1af20a-6f29-4b9c-aaf5-ea6228bc3041"
      },
      "source": [
        "#Drop collumns where there are too many null values\n",
        "treshold =  len(data)*.99\n",
        "print(\"Number of columns before droping columns with many NaN values: \", len(data.columns))\n",
        "data.dropna(axis=\"columns\", thresh=treshold, inplace=True)\n",
        "print(\"Number of columns after droping columns with many NaN values: \", len(data.columns))\n",
        "\n",
        "#Drop rows where there are NaN values\n",
        "print(\"Rows before dropping NaN values: \", len(data))\n",
        "data.dropna(inplace=True)\n",
        "print(\"Rows after dropping NaN values: \", len(data))"
      ],
      "execution_count": 5,
      "outputs": [
        {
          "output_type": "stream",
          "text": [
            "Number of columns before droping columns with many NaN values:  393\n",
            "Number of columns after droping columns with many NaN values:  121\n",
            "Rows before dropping NaN values:  590540\n",
            "Rows after dropping NaN values:  584853\n"
          ],
          "name": "stdout"
        }
      ]
    },
    {
      "cell_type": "code",
      "metadata": {
        "id": "b26PHaKsFZ4Z",
        "colab_type": "code",
        "colab": {
          "base_uri": "https://localhost:8080/",
          "height": 441
        },
        "outputId": "72d1d13e-d878-4e62-ed15-c839daf54826"
      },
      "source": [
        "plot_data = data.loc[ lambda d: d.TransactionAmt < 10000, [\"isFraud\", \"TransactionAmt\"]].iloc[0:10000] # one crazy transaction is crazy high\n",
        "sns.jointplot(data=plot_data, x=\"isFraud\", y=\"TransactionAmt\", kind='reg')\n",
        "del plot_data"
      ],
      "execution_count": 6,
      "outputs": [
        {
          "output_type": "display_data",
          "data": {
            "image/png": "[encoded data removed]",
            "text/plain": [
              "<Figure size 432x432 with 3 Axes>"
            ]
          },
          "metadata": {
            "tags": []
          }
        }
      ]
    },
    {
      "cell_type": "code",
      "metadata": {
        "id": "EbiYtnCYMsF5",
        "colab_type": "code",
        "colab": {
          "base_uri": "https://localhost:8080/",
          "height": 34
        },
        "outputId": "2927e388-5719-48ab-dce2-742e1724b270"
      },
      "source": [
        "#Spliting the data for training\n",
        "\n",
        "x = scale(data.loc[:, data.columns != \"isFraud\"])\n",
        "y = data.loc[:, \"isFraud\"]\n",
        "\n",
        "X_train, X_test, y_train, y_test = train_test_split(x,y,test_size=0.35)\n",
        "\n",
        "print(len(X_train))"
      ],
      "execution_count": 7,
      "outputs": [
        {
          "output_type": "stream",
          "text": [
            "380154\n"
          ],
          "name": "stdout"
        }
      ]
    },
    {
      "cell_type": "code",
      "metadata": {
        "id": "YZNALLWjvUZr",
        "colab_type": "code",
        "colab": {
          "base_uri": "https://localhost:8080/",
          "height": 204
        },
        "outputId": "39bebdee-7709-4763-ab58-6b671bf08010"
      },
      "source": [
        "#Logistic Model\n",
        "\n",
        "logistic = linear_model.LogisticRegression(C=1e7, class_weight={0:1, 1:25}, solver=\"lbfgs\", n_jobs=-1, max_iter=200)\n",
        "logistic.fit(X_train, y_train)\n",
        "\n",
        "y_pred = logistic.predict(X_test)\n",
        "\n",
        "print(\"Total Fraud predictions: \", sum(y_pred))\n",
        "print(\"Logistic Model Score: \", accuracy_score(y_test, y_pred))\n",
        "print(classification_report(y_test, y_pred))\n",
        "\n",
        "\n"
      ],
      "execution_count": 8,
      "outputs": [
        {
          "output_type": "stream",
          "text": [
            "Total Fraud predictions:  48619\n",
            "Logistic Model Score:  0.7779813286826023\n",
            "              precision    recall  f1-score   support\n",
            "\n",
            "           0       0.99      0.78      0.87    197589\n",
            "           1       0.11      0.72      0.18      7110\n",
            "\n",
            "    accuracy                           0.78    204699\n",
            "   macro avg       0.55      0.75      0.53    204699\n",
            "weighted avg       0.96      0.78      0.85    204699\n",
            "\n"
          ],
          "name": "stdout"
        }
      ]
    },
    {
      "cell_type": "code",
      "metadata": {
        "id": "ZMvOksju21d2",
        "colab_type": "code",
        "colab": {
          "base_uri": "https://localhost:8080/",
          "height": 204
        },
        "outputId": "c26c0ee5-e651-4f9a-fa8e-507a1843d2b5"
      },
      "source": [
        "random_forest = RandomForestClassifier(n_estimators=150, random_state=0, n_jobs=-1, class_weight={0:1, 1:30})\n",
        "random_forest.fit(X_train, y_train)\n",
        "\n",
        "forest_pred = random_forest.predict(X_test)\n",
        "\n",
        "print(\"Total Fraud predictions: \", sum(forest_pred))\n",
        "print(\"Random Forest Model Score: \", accuracy_score(y_test, forest_pred))\n",
        "print(classification_report(y_test, forest_pred))\n"
      ],
      "execution_count": 9,
      "outputs": [
        {
          "output_type": "stream",
          "text": [
            "Total Fraud predictions:  3127\n",
            "Random Forest Model Score:  0.9778650604057665\n",
            "              precision    recall  f1-score   support\n",
            "\n",
            "           0       0.98      1.00      0.99    197589\n",
            "           1       0.91      0.40      0.56      7110\n",
            "\n",
            "    accuracy                           0.98    204699\n",
            "   macro avg       0.95      0.70      0.77    204699\n",
            "weighted avg       0.98      0.98      0.97    204699\n",
            "\n"
          ],
          "name": "stdout"
        }
      ]
    }
  ]
}